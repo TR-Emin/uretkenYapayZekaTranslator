{
 "cells": [
  {
   "cell_type": "code",
   "execution_count": 2,
   "id": "bf4fe444-f73a-4cca-ae54-59561ad38ee1",
   "metadata": {},
   "outputs": [
    {
     "name": "stderr",
     "output_type": "stream",
     "text": [
      "No model was supplied, defaulted to google-t5/t5-base and revision a9723ea (https://huggingface.co/google-t5/t5-base).\n",
      "Using a pipeline without specifying a model name and revision in production is not recommended.\n"
     ]
    },
    {
     "data": {
      "application/vnd.jupyter.widget-view+json": {
       "model_id": "8a7923a7893d470584ec71b912e5cd07",
       "version_major": 2,
       "version_minor": 0
      },
      "text/plain": [
       "config.json:   0%|          | 0.00/1.21k [00:00<?, ?B/s]"
      ]
     },
     "metadata": {},
     "output_type": "display_data"
    },
    {
     "data": {
      "application/vnd.jupyter.widget-view+json": {
       "model_id": "459a922859e240428529dcd054813f18",
       "version_major": 2,
       "version_minor": 0
      },
      "text/plain": [
       "model.safetensors:   0%|          | 0.00/892M [00:00<?, ?B/s]"
      ]
     },
     "metadata": {},
     "output_type": "display_data"
    },
    {
     "name": "stderr",
     "output_type": "stream",
     "text": [
      "2024-11-20 13:54:08.234091: W tensorflow/tsl/framework/cpu_allocator_impl.cc:83] Allocation of 98697216 exceeds 10% of free system memory.\n",
      "2024-11-20 13:54:08.339675: W tensorflow/tsl/framework/cpu_allocator_impl.cc:83] Allocation of 98697216 exceeds 10% of free system memory.\n",
      "2024-11-20 13:54:08.471813: W tensorflow/tsl/framework/cpu_allocator_impl.cc:83] Allocation of 98697216 exceeds 10% of free system memory.\n",
      "2024-11-20 13:55:14.390424: W tensorflow/tsl/framework/cpu_allocator_impl.cc:83] Allocation of 98697216 exceeds 10% of free system memory.\n",
      "All PyTorch model weights were used when initializing TFT5ForConditionalGeneration.\n",
      "\n",
      "All the weights of TFT5ForConditionalGeneration were initialized from the PyTorch model.\n",
      "If your task is similar to the task the model of the checkpoint was trained on, you can already use TFT5ForConditionalGeneration for predictions without further training.\n"
     ]
    },
    {
     "data": {
      "application/vnd.jupyter.widget-view+json": {
       "model_id": "049afc2a071f4443a4a020809e3d44a0",
       "version_major": 2,
       "version_minor": 0
      },
      "text/plain": [
       "spiece.model:   0%|          | 0.00/792k [00:00<?, ?B/s]"
      ]
     },
     "metadata": {},
     "output_type": "display_data"
    },
    {
     "data": {
      "application/vnd.jupyter.widget-view+json": {
       "model_id": "a55d363d2fc840cc8982c02fee32cfb7",
       "version_major": 2,
       "version_minor": 0
      },
      "text/plain": [
       "tokenizer.json:   0%|          | 0.00/1.39M [00:00<?, ?B/s]"
      ]
     },
     "metadata": {},
     "output_type": "display_data"
    }
   ],
   "source": [
    "from transformers import pipeline\n",
    "\n",
    "translator = pipeline(\"translation_en_to_fr\")"
   ]
  },
  {
   "cell_type": "code",
   "execution_count": 5,
   "id": "f9629d81-ffc6-4ebb-bc1b-b2cd76fad95d",
   "metadata": {},
   "outputs": [],
   "source": [
    "fr = translator(\"my name is Muhammet and I am an engineer\")"
   ]
  },
  {
   "cell_type": "code",
   "execution_count": 8,
   "id": "09f3a02a-03db-40eb-b9e0-34466c573464",
   "metadata": {},
   "outputs": [
    {
     "data": {
      "text/plain": [
       "'mon nom est Muhammet et je suis ingénieur'"
      ]
     },
     "execution_count": 8,
     "metadata": {},
     "output_type": "execute_result"
    }
   ],
   "source": [
    "fr[0]['translation_text']"
   ]
  },
  {
   "cell_type": "code",
   "execution_count": null,
   "id": "fc5e7335-4b43-4b11-9c71-0f6ca8c12b98",
   "metadata": {},
   "outputs": [],
   "source": [
    "import pysrt\n",
    "\n",
    "subs = pysrt.open(\"captions_english.srt\")\n",
    "\n",
    "for i in subs:\n",
    "    fr_text = translator(i.text)[0]['translation_text']\n",
    "    i.text = fr_text\n",
    "\n",
    "subs.save(\"captions_french.srt\")"
   ]
  },
  {
   "cell_type": "code",
   "execution_count": null,
   "id": "7d207e7a-401e-44f4-98c6-ca8adc3486dc",
   "metadata": {},
   "outputs": [],
   "source": []
  }
 ],
 "metadata": {
  "kernelspec": {
   "display_name": "Python 3 (ipykernel)",
   "language": "python",
   "name": "python3"
  },
  "language_info": {
   "codemirror_mode": {
    "name": "ipython",
    "version": 3
   },
   "file_extension": ".py",
   "mimetype": "text/x-python",
   "name": "python",
   "nbconvert_exporter": "python",
   "pygments_lexer": "ipython3",
   "version": "3.11.6"
  }
 },
 "nbformat": 4,
 "nbformat_minor": 5
}
